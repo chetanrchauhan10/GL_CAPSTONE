
import IPython
IPython.display.YouTubeVideo('59bMh59JQDo')
