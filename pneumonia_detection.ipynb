{
  "nbformat": 4,
  "nbformat_minor": 0,
  "metadata": {
    "colab": {
      "name": "pneumonia_detection.ipynb",
      "provenance": [],
      "toc_visible": true,
      "authorship_tag": "ABX9TyPRFBPbEy7aEpMwPCJChvx+",
      "include_colab_link": true
    },
    "kernelspec": {
      "name": "python3",
      "display_name": "Python 3"
    }
  },
  "cells": [
    {
      "cell_type": "markdown",
      "metadata": {
        "id": "view-in-github",
        "colab_type": "text"
      },
      "source": [
        "<a href=\"https://colab.research.google.com/github/pswaruppk/GL_CAPSTONE/blob/master/pneumonia_detection.ipynb\" target=\"_parent\"><img src=\"https://colab.research.google.com/assets/colab-badge.svg\" alt=\"Open In Colab\"/></a>"
      ]
    },
    {
      "cell_type": "markdown",
      "metadata": {
        "id": "RO8B9oMdLYTH",
        "colab_type": "text"
      },
      "source": [
        "#                                   Pneumonia Detection\n",
        "![Pneumonia](https://www.drugs.com/health-guide/images/022dc126-fc5d-4e54-9a78-75f2c9ea4bb6.jpg)\n",
        "## Problem Interpretation:\n",
        "   The goal is to build a pneumonia detection system, to locate the position of inflammation in an chest radiograph (CXR) image. With sparse material, such as lungs which are full of air, do not absorb the X-rays and appear black in the image. Dense tissues such as bones absorb X-rays and appear white in the image.\n",
        "While we are theoretically detecting “lung opacities”, there are lung opacities that are not pneumonia related.\n",
        "\n",
        "## Data Interpretation:\n",
        "  In the data, some of these are labeled **“Not Normal No Lung Opacity”**. This extra third class indicates that while pneumonia was determined not to be present, there was nonetheless some type of abnormality on the image and often times this finding may mimic the appearance of true pneumonia.\n",
        " \n",
        "## What files do I need?\n",
        "  This is a two-stage challenge. You will need the images for the current stage - provided as **stage_2_train_images.zip** and **stage_2_test_images.zip**. You will also need the training data - **stage_2_train_labels.csv** - and the sample submission **stage_2_sample_submission.csv**, which provides the IDs for the test set, as well as a sample of what your submission should look like. The file **stage_2_detailed_class_info.csv** contains detailed information about the positive and negative classes in the training set, and may be used to build more nuanced models.\n",
        "\n",
        "## What should I expect the data format to be?\n",
        "  The training data is provided as a set of **patientIds** and bounding boxes. Bounding boxes are defined as follows: x-min y-min width height\n",
        "\n",
        "There is also a binary target column, **Target**, indicating pneumonia or non-pneumonia.\n",
        "\n",
        "There may be multiple rows per **patientId**.\n",
        "\n",
        "## DICOM Images\n",
        "  All provided images are in DICOM format. Medical images are stored in a special format called DICOM files (*.dcm). They contain a combination of header metadata as well as underlying raw image arrays for pixel data.\n",
        "\n",
        "## What am I predicting?\n",
        "  Here we are predicting whether pneumonia exists in a given image. They do so by predicting bounding boxes around areas of the lung. Samples without bounding boxes are negative and contain no definitive evidence of pneumonia. Samples with bounding boxes indicate evidence of pneumonia.\n",
        "\n",
        "When making predictions, competitors should predict as many bounding boxes as they feel are necessary, in the format: confidence x-min y-min width height\n",
        "\n",
        "There should be only ONE predicted row per image. This row may include multiple bounding boxes.\n",
        "\n",
        "A properly formatted row may look like any of the following.\n",
        "\n",
        "For patientIds with no predicted pneumonia / bounding boxes: 0004cfab-14fd-4e49-80ba-63a80b6bddd6,\n",
        "\n",
        "For patientIds with a single predicted bounding box: 0004cfab-14fd-4e49-80ba-63a80b6bddd6,0.5 0 0 100 100\n",
        "\n",
        "For patientIds with multiple predicted bounding boxes: 0004cfab-14fd-4e49-80ba-63a80b6bddd6,0.5 0 0 100 100 0.5 0 0 100 100, etc.\n",
        "\n",
        "## File descriptions\n",
        "**stage_2_train.csv** - the training set. Contains patientIds and bounding box / target information.\n",
        "\n",
        "**stage_2_sample_submission.csv** - a sample submission file in the correct format. Contains patientIds for the test set. Note that the sample submission contains one box per image, but there is no limit to the number of bounding boxes that can be assigned to a given image.\n",
        "\n",
        "**stage_2_detailed_class_info.csv** - provides detailed information about the type of positive or negative class for each image.\n",
        "## Data fields\n",
        "patientId _- A patientId. Each patientId corresponds to a unique image.\n",
        "\n",
        "x_ - the upper-left x coordinate of the bounding box.\n",
        "\n",
        "y_ - the upper-left y coordinate of the bounding box.\n",
        "\n",
        "width_ - the width of the bounding box.\n",
        "\n",
        "height_ - the height of the bounding box.\n",
        "\n",
        "Target_ - the binary Target, indicating whether this sample has evidence of pneumonia.\n",
        "\n",
        "\n",
        "## What is pneumonia?\n"
      ]
    },
    {
      "cell_type": "code",
      "metadata": {
        "id": "xQWCyB6aIFqi",
        "colab_type": "code",
        "colab": {
          "base_uri": "https://localhost:8080/",
          "height": 321
        },
        "outputId": "4d33188d-f907-45a8-a765-2632a6c91244"
      },
      "source": [
        "\n",
        "import IPython\n",
        "IPython.display.YouTubeVideo('o5czh4JM0Ho')"
      ],
      "execution_count": 2,
      "outputs": [
        {
          "output_type": "execute_result",
          "data": {
            "text/html": [
              "\n",
              "        <iframe\n",
              "            width=\"400\"\n",
              "            height=\"300\"\n",
              "            src=\"https://www.youtube.com/embed/o5czh4JM0Ho\"\n",
              "            frameborder=\"0\"\n",
              "            allowfullscreen\n",
              "        ></iframe>\n",
              "        "
            ],
            "text/plain": [
              "<IPython.lib.display.YouTubeVideo at 0x7f2a9fe4ee48>"
            ],
            "image/jpeg": "[encoded data removed]"
          },
          "metadata": {
            "tags": []
          },
          "execution_count": 2
        }
      ]
    },
    {
      "cell_type": "code",
      "metadata": {
        "id": "9--StZWRUwqQ",
        "colab_type": "code",
        "colab": {}
      },
      "source": [
        ""
      ],
      "execution_count": null,
      "outputs": []
    }
  ]
}